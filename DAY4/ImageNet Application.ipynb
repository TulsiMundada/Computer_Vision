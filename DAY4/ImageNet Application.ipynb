{
 "cells": [
  {
   "cell_type": "code",
   "execution_count": 1,
   "metadata": {},
   "outputs": [
    {
     "name": "stdout",
     "output_type": "stream",
     "text": [
      "WARNING:tensorflow:From c:\\Users\\dai\\AppData\\Local\\Programs\\Python\\Python311\\Lib\\site-packages\\keras\\src\\losses.py:2976: The name tf.losses.sparse_softmax_cross_entropy is deprecated. Please use tf.compat.v1.losses.sparse_softmax_cross_entropy instead.\n",
      "\n"
     ]
    }
   ],
   "source": [
    "import tensorflow as tf \n",
    "import numpy as np\n",
    "import matplotlib.pyplot as plt\n",
    "from keras.models import Sequential\n",
    "from keras.layers import Dense, Conv2D, Flatten, MaxPool2D , Dropout\n",
    "from keras.preprocessing.image import ImageDataGenerator"
   ]
  },
  {
   "cell_type": "code",
   "execution_count": 2,
   "metadata": {},
   "outputs": [],
   "source": [
    "## Build the CNN\n",
    "def build_cnn(input_shape = (224,224,3) , num_classes=10):\n",
    "    model = Sequential()\n",
    "    model.add(Conv2D(32, (3,3), activation='relu', input_shape=input_shape))\n",
    "    model.add(MaxPool2D(pool_size=(2,2)))\n",
    "    model.add(Conv2D(64,kernel_size=(3,3),activation='relu'))\n",
    "    model.add(MaxPool2D(pool_size=(2,2)))\n",
    "    model.add(Flatten())\n",
    "    model.add(Dense(num_classes,activation='softmax'))\n",
    "    return model"
   ]
  },
  {
   "cell_type": "code",
   "execution_count": 3,
   "metadata": {},
   "outputs": [
    {
     "name": "stdout",
     "output_type": "stream",
     "text": [
      "WARNING:tensorflow:From c:\\Users\\dai\\AppData\\Local\\Programs\\Python\\Python311\\Lib\\site-packages\\keras\\src\\backend.py:873: The name tf.get_default_graph is deprecated. Please use tf.compat.v1.get_default_graph instead.\n",
      "\n",
      "WARNING:tensorflow:From c:\\Users\\dai\\AppData\\Local\\Programs\\Python\\Python311\\Lib\\site-packages\\keras\\src\\layers\\pooling\\max_pooling2d.py:161: The name tf.nn.max_pool is deprecated. Please use tf.nn.max_pool2d instead.\n",
      "\n"
     ]
    }
   ],
   "source": [
    "model = build_cnn(input_shape=(64,64,3))"
   ]
  },
  {
   "cell_type": "code",
   "execution_count": 4,
   "metadata": {},
   "outputs": [
    {
     "name": "stdout",
     "output_type": "stream",
     "text": [
      "Model: \"sequential\"\n",
      "_________________________________________________________________\n",
      " Layer (type)                Output Shape              Param #   \n",
      "=================================================================\n",
      " conv2d (Conv2D)             (None, 62, 62, 32)        896       \n",
      "                                                                 \n",
      " max_pooling2d (MaxPooling2  (None, 31, 31, 32)        0         \n",
      " D)                                                              \n",
      "                                                                 \n",
      " conv2d_1 (Conv2D)           (None, 29, 29, 64)        18496     \n",
      "                                                                 \n",
      " max_pooling2d_1 (MaxPoolin  (None, 14, 14, 64)        0         \n",
      " g2D)                                                            \n",
      "                                                                 \n",
      " flatten (Flatten)           (None, 12544)             0         \n",
      "                                                                 \n",
      " dense (Dense)               (None, 10)                125450    \n",
      "                                                                 \n",
      "=================================================================\n",
      "Total params: 144842 (565.79 KB)\n",
      "Trainable params: 144842 (565.79 KB)\n",
      "Non-trainable params: 0 (0.00 Byte)\n",
      "_________________________________________________________________\n"
     ]
    }
   ],
   "source": [
    "model.summary()"
   ]
  },
  {
   "cell_type": "code",
   "execution_count": 5,
   "metadata": {},
   "outputs": [],
   "source": [
    "## Create image data generator object\n",
    "train_datagen = ImageDataGenerator(rescale=1/255,\n",
    "                                   shear_range=0.2,\n",
    "                                   zoom_range=0.2,\n",
    "                                   horizontal_flip=True)"
   ]
  },
  {
   "cell_type": "code",
   "execution_count": 6,
   "metadata": {},
   "outputs": [],
   "source": [
    "test_datagen = ImageDataGenerator(rescale=1/255)"
   ]
  },
  {
   "cell_type": "code",
   "execution_count": 7,
   "metadata": {},
   "outputs": [
    {
     "name": "stdout",
     "output_type": "stream",
     "text": [
      "Found 5000 images belonging to 10 classes.\n"
     ]
    }
   ],
   "source": [
    "## Read the images\n",
    "train_dataset = train_datagen.flow_from_directory('../imagenet-new/train/',\n",
    "                                          target_size=(64,64),\n",
    "                                          batch_size=32,\n",
    "                                          class_mode='categorical')"
   ]
  },
  {
   "cell_type": "code",
   "execution_count": 8,
   "metadata": {},
   "outputs": [
    {
     "name": "stdout",
     "output_type": "stream",
     "text": [
      "Found 10000 images belonging to 1 classes.\n"
     ]
    }
   ],
   "source": [
    "## Read the images\n",
    "test_dataset = test_datagen.flow_from_directory('../imagenet-new/test/',\n",
    "                                          target_size=(64,64),\n",
    "                                          batch_size=32,\n",
    "                                          class_mode='categorical')"
   ]
  },
  {
   "cell_type": "code",
   "execution_count": 9,
   "metadata": {},
   "outputs": [
    {
     "data": {
      "text/plain": [
       "{'crocodile': 0,\n",
       " 'fish': 1,\n",
       " 'fossils': 2,\n",
       " 'frog': 3,\n",
       " 'insect': 4,\n",
       " 'reptiles': 5,\n",
       " 'scorpion': 6,\n",
       " 'snake': 7,\n",
       " 'spider': 8,\n",
       " 'toad': 9}"
      ]
     },
     "execution_count": 9,
     "metadata": {},
     "output_type": "execute_result"
    }
   ],
   "source": [
    "train_dataset.class_indices"
   ]
  },
  {
   "cell_type": "code",
   "execution_count": 10,
   "metadata": {},
   "outputs": [
    {
     "name": "stdout",
     "output_type": "stream",
     "text": [
      "WARNING:tensorflow:From c:\\Users\\dai\\AppData\\Local\\Programs\\Python\\Python311\\Lib\\site-packages\\keras\\src\\optimizers\\__init__.py:309: The name tf.train.Optimizer is deprecated. Please use tf.compat.v1.train.Optimizer instead.\n",
      "\n"
     ]
    }
   ],
   "source": [
    "model.compile(loss='categorical_crossentropy',optimizer='adam',metrics=['accuracy'])"
   ]
  },
  {
   "cell_type": "code",
   "execution_count": 11,
   "metadata": {},
   "outputs": [
    {
     "name": "stdout",
     "output_type": "stream",
     "text": [
      "Epoch 1/10\n",
      "WARNING:tensorflow:From c:\\Users\\dai\\AppData\\Local\\Programs\\Python\\Python311\\Lib\\site-packages\\keras\\src\\utils\\tf_utils.py:492: The name tf.ragged.RaggedTensorValue is deprecated. Please use tf.compat.v1.ragged.RaggedTensorValue instead.\n",
      "\n",
      "WARNING:tensorflow:From c:\\Users\\dai\\AppData\\Local\\Programs\\Python\\Python311\\Lib\\site-packages\\keras\\src\\engine\\base_layer_utils.py:384: The name tf.executing_eagerly_outside_functions is deprecated. Please use tf.compat.v1.executing_eagerly_outside_functions instead.\n",
      "\n",
      "157/157 [==============================] - 67s 416ms/step - loss: 1.9881 - accuracy: 0.2904\n",
      "Epoch 2/10\n",
      "157/157 [==============================] - 12s 77ms/step - loss: 1.6820 - accuracy: 0.4182\n",
      "Epoch 3/10\n",
      "157/157 [==============================] - 12s 76ms/step - loss: 1.5893 - accuracy: 0.4552\n",
      "Epoch 4/10\n",
      "157/157 [==============================] - 12s 76ms/step - loss: 1.4888 - accuracy: 0.4924\n",
      "Epoch 5/10\n",
      "157/157 [==============================] - 12s 77ms/step - loss: 1.3966 - accuracy: 0.5254\n",
      "Epoch 6/10\n",
      "157/157 [==============================] - 12s 77ms/step - loss: 1.3341 - accuracy: 0.5554\n",
      "Epoch 7/10\n",
      "157/157 [==============================] - 12s 77ms/step - loss: 1.3085 - accuracy: 0.5596\n",
      "Epoch 8/10\n",
      "157/157 [==============================] - 12s 77ms/step - loss: 1.2366 - accuracy: 0.5788\n",
      "Epoch 9/10\n",
      "157/157 [==============================] - 12s 78ms/step - loss: 1.2089 - accuracy: 0.5988\n",
      "Epoch 10/10\n",
      "157/157 [==============================] - 12s 78ms/step - loss: 1.1731 - accuracy: 0.6062\n"
     ]
    },
    {
     "data": {
      "text/plain": [
       "<keras.src.callbacks.History at 0x1cfed829110>"
      ]
     },
     "execution_count": 11,
     "metadata": {},
     "output_type": "execute_result"
    }
   ],
   "source": [
    "model.fit(train_dataset,epochs=10)"
   ]
  },
  {
   "cell_type": "markdown",
   "metadata": {},
   "source": [
    "### Lable the unlabeled data"
   ]
  },
  {
   "cell_type": "code",
   "execution_count": 51,
   "metadata": {},
   "outputs": [],
   "source": [
    "import os , cv2\n",
    "test = '../imagenet-new/test/images/'"
   ]
  },
  {
   "cell_type": "code",
   "execution_count": 57,
   "metadata": {},
   "outputs": [
    {
     "name": "stdout",
     "output_type": "stream",
     "text": [
      "test_1008.JPEG\n",
      "test_1048.JPEG\n",
      "test_1052.JPEG\n",
      "test_1053.JPEG\n",
      "test_1081.JPEG\n",
      "test_1122.JPEG\n",
      "test_1168.JPEG\n",
      "test_1237.JPEG\n",
      "test_1265.JPEG\n",
      "test_1273.JPEG\n",
      "test_1309.JPEG\n",
      "test_1320.JPEG\n",
      "test_1324.JPEG\n",
      "test_1454.JPEG\n",
      "test_1478.JPEG\n",
      "test_1557.JPEG\n",
      "test_1559.JPEG\n",
      "test_1574.JPEG\n",
      "test_1603.JPEG\n",
      "test_1656.JPEG\n",
      "test_1665.JPEG\n",
      "test_1684.JPEG\n",
      "test_1709.JPEG\n",
      "test_1733.JPEG\n",
      "test_1744.JPEG\n",
      "test_1773.JPEG\n",
      "test_1781.JPEG\n",
      "test_1801.JPEG\n",
      "test_1834.JPEG\n",
      "test_1856.JPEG\n",
      "test_1861.JPEG\n",
      "test_1915.JPEG\n",
      "test_1965.JPEG\n",
      "test_1970.JPEG\n",
      "test_1986.JPEG\n",
      "test_1993.JPEG\n",
      "test_2006.JPEG\n",
      "test_2023.JPEG\n",
      "test_205.JPEG\n",
      "test_2100.JPEG\n",
      "test_214.JPEG\n",
      "test_2194.JPEG\n",
      "test_2264.JPEG\n",
      "test_2273.JPEG\n",
      "test_2279.JPEG\n",
      "test_2287.JPEG\n",
      "test_230.JPEG\n",
      "test_2302.JPEG\n",
      "test_2306.JPEG\n",
      "test_2362.JPEG\n",
      "test_2390.JPEG\n",
      "test_240.JPEG\n",
      "test_2485.JPEG\n",
      "test_2523.JPEG\n",
      "test_2543.JPEG\n",
      "test_258.JPEG\n",
      "test_2608.JPEG\n",
      "test_2637.JPEG\n",
      "test_2652.JPEG\n",
      "test_270.JPEG\n",
      "test_2772.JPEG\n",
      "test_2807.JPEG\n",
      "test_2854.JPEG\n",
      "test_2890.JPEG\n",
      "test_2908.JPEG\n",
      "test_2923.JPEG\n",
      "test_295.JPEG\n",
      "test_2959.JPEG\n",
      "test_2977.JPEG\n",
      "test_2987.JPEG\n",
      "test_299.JPEG\n",
      "test_3018.JPEG\n",
      "test_302.JPEG\n",
      "test_3044.JPEG\n",
      "test_3050.JPEG\n",
      "test_3087.JPEG\n",
      "test_3095.JPEG\n",
      "test_3111.JPEG\n",
      "test_3113.JPEG\n",
      "test_3120.JPEG\n",
      "test_3133.JPEG\n",
      "test_3137.JPEG\n",
      "test_3162.JPEG\n",
      "test_3202.JPEG\n",
      "test_3256.JPEG\n",
      "test_3312.JPEG\n",
      "test_3323.JPEG\n",
      "test_3358.JPEG\n",
      "test_3390.JPEG\n",
      "test_3435.JPEG\n",
      "test_3437.JPEG\n",
      "test_3439.JPEG\n",
      "test_344.JPEG\n",
      "test_3595.JPEG\n",
      "test_3615.JPEG\n",
      "test_3627.JPEG\n",
      "test_3690.JPEG\n",
      "test_3719.JPEG\n",
      "test_3726.JPEG\n",
      "test_3741.JPEG\n",
      "test_3754.JPEG\n",
      "test_3796.JPEG\n",
      "test_3798.JPEG\n",
      "test_3819.JPEG\n",
      "test_3826.JPEG\n",
      "test_3838.JPEG\n",
      "test_3861.JPEG\n",
      "test_3865.JPEG\n",
      "test_3871.JPEG\n",
      "test_3879.JPEG\n",
      "test_3895.JPEG\n",
      "test_3960.JPEG\n",
      "test_4053.JPEG\n",
      "test_4139.JPEG\n",
      "test_4370.JPEG\n",
      "test_4387.JPEG\n",
      "test_4389.JPEG\n",
      "test_4411.JPEG\n",
      "test_4420.JPEG\n",
      "test_4431.JPEG\n",
      "test_4514.JPEG\n",
      "test_4542.JPEG\n",
      "test_4556.JPEG\n",
      "test_4557.JPEG\n",
      "test_4562.JPEG\n",
      "test_458.JPEG\n",
      "test_4602.JPEG\n",
      "test_4606.JPEG\n",
      "test_4635.JPEG\n",
      "test_4661.JPEG\n",
      "test_4712.JPEG\n",
      "test_4750.JPEG\n",
      "test_4788.JPEG\n",
      "test_4815.JPEG\n",
      "test_4821.JPEG\n",
      "test_4844.JPEG\n",
      "test_4898.JPEG\n",
      "test_4905.JPEG\n",
      "test_4931.JPEG\n",
      "test_494.JPEG\n",
      "test_4972.JPEG\n",
      "test_4984.JPEG\n",
      "test_5058.JPEG\n",
      "test_5093.JPEG\n",
      "test_516.JPEG\n",
      "test_5179.JPEG\n",
      "test_5181.JPEG\n",
      "test_5250.JPEG\n",
      "test_529.JPEG\n",
      "test_5292.JPEG\n",
      "test_532.JPEG\n",
      "test_5337.JPEG\n",
      "test_5341.JPEG\n",
      "test_5382.JPEG\n",
      "test_5396.JPEG\n",
      "test_542.JPEG\n",
      "test_5475.JPEG\n",
      "test_5501.JPEG\n",
      "test_5574.JPEG\n",
      "test_564.JPEG\n",
      "test_5682.JPEG\n",
      "test_5728.JPEG\n",
      "test_5740.JPEG\n",
      "test_5796.JPEG\n",
      "test_5803.JPEG\n",
      "test_5866.JPEG\n",
      "test_5888.JPEG\n",
      "test_5946.JPEG\n",
      "test_6027.JPEG\n",
      "test_6051.JPEG\n",
      "test_6123.JPEG\n",
      "test_6159.JPEG\n",
      "test_6189.JPEG\n",
      "test_621.JPEG\n",
      "test_6220.JPEG\n",
      "test_6223.JPEG\n",
      "test_6253.JPEG\n",
      "test_6307.JPEG\n",
      "test_635.JPEG\n",
      "test_639.JPEG\n",
      "test_6493.JPEG\n",
      "test_6505.JPEG\n",
      "test_6560.JPEG\n",
      "test_6562.JPEG\n",
      "test_6702.JPEG\n",
      "test_6708.JPEG\n",
      "test_672.JPEG\n",
      "test_6735.JPEG\n",
      "test_6766.JPEG\n",
      "test_6767.JPEG\n",
      "test_6797.JPEG\n",
      "test_6833.JPEG\n",
      "test_6841.JPEG\n",
      "test_6851.JPEG\n",
      "test_6866.JPEG\n",
      "test_6886.JPEG\n",
      "test_6903.JPEG\n",
      "test_6913.JPEG\n",
      "test_6927.JPEG\n",
      "test_6948.JPEG\n",
      "test_6980.JPEG\n",
      "test_6999.JPEG\n",
      "test_7027.JPEG\n",
      "test_7038.JPEG\n",
      "test_7042.JPEG\n",
      "test_7104.JPEG\n",
      "test_7120.JPEG\n",
      "test_7157.JPEG\n",
      "test_7177.JPEG\n",
      "test_7241.JPEG\n",
      "test_7379.JPEG\n",
      "test_7417.JPEG\n",
      "test_7428.JPEG\n",
      "test_7551.JPEG\n",
      "test_7577.JPEG\n",
      "test_7578.JPEG\n",
      "test_7587.JPEG\n",
      "test_7596.JPEG\n",
      "test_7667.JPEG\n",
      "test_7737.JPEG\n",
      "test_7747.JPEG\n",
      "test_7752.JPEG\n",
      "test_7847.JPEG\n",
      "test_7858.JPEG\n",
      "test_7908.JPEG\n",
      "test_7953.JPEG\n",
      "test_7961.JPEG\n",
      "test_7980.JPEG\n",
      "test_8059.JPEG\n",
      "test_8085.JPEG\n",
      "test_8089.JPEG\n",
      "test_809.JPEG\n",
      "test_8112.JPEG\n",
      "test_8134.JPEG\n",
      "test_8236.JPEG\n",
      "test_8238.JPEG\n",
      "test_8271.JPEG\n",
      "test_8278.JPEG\n",
      "test_8279.JPEG\n",
      "test_8289.JPEG\n",
      "test_8313.JPEG\n",
      "test_8339.JPEG\n",
      "test_840.JPEG\n",
      "test_8406.JPEG\n",
      "test_8420.JPEG\n",
      "test_8425.JPEG\n",
      "test_8439.JPEG\n",
      "test_8513.JPEG\n",
      "test_8538.JPEG\n",
      "test_8580.JPEG\n",
      "test_8608.JPEG\n",
      "test_8670.JPEG\n",
      "test_8679.JPEG\n",
      "test_8687.JPEG\n",
      "test_8784.JPEG\n",
      "test_8800.JPEG\n",
      "test_889.JPEG\n",
      "test_8908.JPEG\n",
      "test_8921.JPEG\n",
      "test_9020.JPEG\n",
      "test_9025.JPEG\n",
      "test_9045.JPEG\n",
      "test_9073.JPEG\n",
      "test_9131.JPEG\n",
      "test_9141.JPEG\n",
      "test_9199.JPEG\n",
      "test_9203.JPEG\n",
      "test_9205.JPEG\n",
      "test_9267.JPEG\n",
      "test_9357.JPEG\n",
      "test_9378.JPEG\n",
      "test_9459.JPEG\n",
      "test_9461.JPEG\n",
      "test_951.JPEG\n",
      "test_9611.JPEG\n",
      "test_9652.JPEG\n",
      "test_9667.JPEG\n",
      "test_9679.JPEG\n",
      "test_9725.JPEG\n",
      "test_9880.JPEG\n",
      "test_9970.JPEG\n"
     ]
    }
   ],
   "source": [
    "for file in os.listdir(test):\n",
    "    image = plt.imread(test + file)\n",
    "    if len(image.shape) ==  3:\n",
    "        image = image.reshape(1,64,64,3)\n",
    "        result = model.predict(image , verbose=False)\n",
    "        if result.argmax() == 1 :\n",
    "            print (file)"
   ]
  },
  {
   "cell_type": "code",
   "execution_count": null,
   "metadata": {},
   "outputs": [],
   "source": []
  }
 ],
 "metadata": {
  "kernelspec": {
   "display_name": "Python 3",
   "language": "python",
   "name": "python3"
  },
  "language_info": {
   "codemirror_mode": {
    "name": "ipython",
    "version": 3
   },
   "file_extension": ".py",
   "mimetype": "text/x-python",
   "name": "python",
   "nbconvert_exporter": "python",
   "pygments_lexer": "ipython3",
   "version": "3.11.9"
  }
 },
 "nbformat": 4,
 "nbformat_minor": 2
}
