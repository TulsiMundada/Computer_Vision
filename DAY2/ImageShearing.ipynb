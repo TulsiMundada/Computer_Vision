{
 "cells": [
  {
   "cell_type": "code",
   "execution_count": 2,
   "metadata": {},
   "outputs": [],
   "source": [
    "import cv2 \n",
    "import matplotlib.pyplot as plt \n",
    "import numpy as np"
   ]
  },
  {
   "cell_type": "code",
   "execution_count": 10,
   "metadata": {},
   "outputs": [],
   "source": [
    "img = cv2.imread(\"../images/lenna.png\" )\n",
    " #Define shearing factor (adjust as needed)\n",
    "shear_x = -0.15\n",
    "shear_y = 0.15\n",
    "\n",
    "#Create transformation matrix\n",
    "M = np.array([[1, shear_x, 0], [shear_y,1,0], [0,0,1]])\n",
    "\n",
    "rows, cols, _ = img.shape\n",
    "T = np.float32([[1,0,0], [0,1,250]])\n",
    "\n",
    "#We use wrapAffine transform the image using the matrix, T\n",
    "img_translation = cv2.warpAffine(img, T, (int(cols*1.5), int(rows*1.5)))\n",
    "sheared_img = cv2.warpPerspective(img_translation, M, (int(cols*1.5), int(rows*1.5)))\n",
    "\n",
    "cv2.imshow(\" Image\" , sheared_img)\n",
    "cv2.waitKey(0)\n",
    "cv2.destroyAllWindows()"
   ]
  },
  {
   "cell_type": "code",
   "execution_count": null,
   "metadata": {},
   "outputs": [],
   "source": []
  },
  {
   "cell_type": "code",
   "execution_count": null,
   "metadata": {},
   "outputs": [],
   "source": []
  }
 ],
 "metadata": {
  "kernelspec": {
   "display_name": "Python 3",
   "language": "python",
   "name": "python3"
  },
  "language_info": {
   "codemirror_mode": {
    "name": "ipython",
    "version": 3
   },
   "file_extension": ".py",
   "mimetype": "text/x-python",
   "name": "python",
   "nbconvert_exporter": "python",
   "pygments_lexer": "ipython3",
   "version": "3.11.9"
  }
 },
 "nbformat": 4,
 "nbformat_minor": 2
}
