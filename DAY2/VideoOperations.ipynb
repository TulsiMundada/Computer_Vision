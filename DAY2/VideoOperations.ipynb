{
 "cells": [
  {
   "cell_type": "code",
   "execution_count": 1,
   "metadata": {},
   "outputs": [],
   "source": [
    "import cv2 \n",
    "import matplotlib.pyplot as plt "
   ]
  },
  {
   "cell_type": "code",
   "execution_count": 6,
   "metadata": {},
   "outputs": [],
   "source": [
    "### Load the Video\n",
    "vid = cv2.VideoCapture('../images/robots.mp4')"
   ]
  },
  {
   "cell_type": "code",
   "execution_count": 7,
   "metadata": {},
   "outputs": [],
   "source": [
    "### Extract the folder\n",
    "ret , frame = vid.read()"
   ]
  },
  {
   "cell_type": "code",
   "execution_count": 8,
   "metadata": {},
   "outputs": [
    {
     "data": {
      "text/plain": [
       "True"
      ]
     },
     "execution_count": 8,
     "metadata": {},
     "output_type": "execute_result"
    }
   ],
   "source": [
    "ret"
   ]
  },
  {
   "cell_type": "code",
   "execution_count": 9,
   "metadata": {},
   "outputs": [
    {
     "data": {
      "text/plain": [
       "array([[[ 19,  14,  13],\n",
       "        [ 19,  14,  13],\n",
       "        [ 19,  14,  13],\n",
       "        ...,\n",
       "        [ 48,  43,  23],\n",
       "        [ 48,  43,  23],\n",
       "        [ 48,  43,  23]],\n",
       "\n",
       "       [[ 19,  14,  13],\n",
       "        [ 19,  14,  13],\n",
       "        [ 19,  14,  13],\n",
       "        ...,\n",
       "        [ 48,  43,  23],\n",
       "        [ 48,  43,  23],\n",
       "        [ 48,  43,  23]],\n",
       "\n",
       "       [[ 19,  14,  13],\n",
       "        [ 19,  14,  13],\n",
       "        [ 19,  14,  13],\n",
       "        ...,\n",
       "        [ 48,  43,  23],\n",
       "        [ 48,  43,  23],\n",
       "        [ 48,  43,  23]],\n",
       "\n",
       "       ...,\n",
       "\n",
       "       [[164, 167, 178],\n",
       "        [164, 167, 178],\n",
       "        [164, 167, 178],\n",
       "        ...,\n",
       "        [142, 143, 161],\n",
       "        [142, 143, 161],\n",
       "        [142, 143, 161]],\n",
       "\n",
       "       [[164, 167, 178],\n",
       "        [164, 167, 178],\n",
       "        [164, 167, 178],\n",
       "        ...,\n",
       "        [142, 143, 161],\n",
       "        [142, 143, 161],\n",
       "        [142, 143, 161]],\n",
       "\n",
       "       [[164, 167, 178],\n",
       "        [164, 167, 178],\n",
       "        [164, 167, 178],\n",
       "        ...,\n",
       "        [143, 144, 162],\n",
       "        [143, 144, 162],\n",
       "        [143, 144, 162]]], dtype=uint8)"
      ]
     },
     "execution_count": 9,
     "metadata": {},
     "output_type": "execute_result"
    }
   ],
   "source": [
    "frame"
   ]
  },
  {
   "cell_type": "code",
   "execution_count": 10,
   "metadata": {},
   "outputs": [
    {
     "data": {
      "text/plain": [
       "(640, 640, 3)"
      ]
     },
     "execution_count": 10,
     "metadata": {},
     "output_type": "execute_result"
    }
   ],
   "source": [
    "frame.shape"
   ]
  },
  {
   "cell_type": "code",
   "execution_count": 12,
   "metadata": {},
   "outputs": [],
   "source": [
    "cv2.imshow('First Frame',frame)\n",
    "cv2.waitKey(0)\n",
    "cv2.destroyAllWindows()"
   ]
  },
  {
   "cell_type": "code",
   "execution_count": 13,
   "metadata": {},
   "outputs": [],
   "source": [
    "width = int(vid.get(cv2.CAP_PROP_FRAME_WIDTH)) \n",
    "height = int(vid.get(cv2.CAP_PROP_FRAME_HEIGHT)) \n",
    "frames = int(vid.get(cv2.CAP_PROP_FRAME_COUNT)) \n",
    "fps = int(vid.get(cv2.CAP_PROP_FPS)) "
   ]
  },
  {
   "cell_type": "code",
   "execution_count": 14,
   "metadata": {},
   "outputs": [
    {
     "name": "stdout",
     "output_type": "stream",
     "text": [
      "Video Resolution 640 640\n",
      "Total Frames :  1799\n",
      "FPS 30\n"
     ]
    }
   ],
   "source": [
    "print(\"Video Resolution\" , height,width)\n",
    "print(\"Total Frames : \" , frames)\n",
    "print(\"FPS\" , fps)"
   ]
  },
  {
   "cell_type": "code",
   "execution_count": 15,
   "metadata": {},
   "outputs": [],
   "source": [
    "vid = cv2.VideoCapture('../images/robots.mp4')\n",
    "while True:\n",
    "    ret , frame = vid.read()\n",
    "    if not ret:\n",
    "        break\n",
    "    # Process the frame (e.g - apply filters , detect objects)\n",
    "    cv2.imshow('video',frame)\n",
    "    if cv2.waitKey(5) == ord('q'):\n",
    "        break\n",
    "cv2.destroyAllWindows()\n"
   ]
  },
  {
   "cell_type": "markdown",
   "metadata": {},
   "source": [
    "### Capture the images and save"
   ]
  },
  {
   "cell_type": "code",
   "execution_count": 18,
   "metadata": {},
   "outputs": [],
   "source": [
    "vid = cv2.VideoCapture('../images/robots.mp4')\n",
    "\n",
    "## get the first frame and see it successful\n",
    "success , frame = vid.read()\n",
    "\n",
    "# initiate count\n",
    "count = 1\n",
    "# keep extracting frames as long as success is True\n",
    "while success:\n",
    "    cv2.imwrite(f'video_frames/{count}.jpg',frame)\n",
    "    success , frame = vid.read()\n",
    "    count += 1"
   ]
  },
  {
   "cell_type": "markdown",
   "metadata": {},
   "source": [
    "#### Working with the timestamp"
   ]
  },
  {
   "cell_type": "code",
   "execution_count": 21,
   "metadata": {},
   "outputs": [
    {
     "name": "stdout",
     "output_type": "stream",
     "text": [
      "0.0 0.0 43.0\n"
     ]
    }
   ],
   "source": [
    "### get frames at a specific timestamp\n",
    "timestamp = '00:00:43.00'\n",
    "hours , minutes , seconds = [float (i) for i in timestamp.split(\":\")]\n",
    "print(hours , minutes , seconds)"
   ]
  },
  {
   "cell_type": "code",
   "execution_count": 22,
   "metadata": {},
   "outputs": [
    {
     "data": {
      "text/plain": [
       "['00', '00', '43.00']"
      ]
     },
     "execution_count": 22,
     "metadata": {},
     "output_type": "execute_result"
    }
   ],
   "source": [
    "timestamp = '00:00:43.00'\n",
    "timestamp.split(':')"
   ]
  },
  {
   "cell_type": "code",
   "execution_count": 23,
   "metadata": {},
   "outputs": [
    {
     "name": "stdout",
     "output_type": "stream",
     "text": [
      "1799 1290.0\n"
     ]
    }
   ],
   "source": [
    "## get number of frames up to timestamp\n",
    "trigger_frame = hours * 3600 * fps + minutes * 60 * fps + seconds * fps\n",
    "print(frames , trigger_frame)"
   ]
  },
  {
   "cell_type": "code",
   "execution_count": 24,
   "metadata": {},
   "outputs": [],
   "source": [
    "## Go to frame selected by timestamp\n",
    "vid.set(1,trigger_frame)\n",
    "success , frame = vid.read()\n",
    "\n",
    "# save the frame into an image file\n",
    "if success:\n",
    "    cv2.imwrite('screen.jpg' , frame)"
   ]
  },
  {
   "cell_type": "markdown",
   "metadata": {},
   "source": [
    "##### Capture using camera"
   ]
  },
  {
   "cell_type": "code",
   "execution_count": 28,
   "metadata": {},
   "outputs": [
    {
     "data": {
      "text/plain": [
       "False"
      ]
     },
     "execution_count": 28,
     "metadata": {},
     "output_type": "execute_result"
    }
   ],
   "source": [
    "vid = cv2.VideoCapture(0)\n",
    "vid.isOpened()"
   ]
  },
  {
   "cell_type": "code",
   "execution_count": 29,
   "metadata": {},
   "outputs": [],
   "source": [
    "success , frame = vid.read()"
   ]
  },
  {
   "cell_type": "code",
   "execution_count": 30,
   "metadata": {},
   "outputs": [],
   "source": [
    "vid.release()"
   ]
  },
  {
   "cell_type": "code",
   "execution_count": 32,
   "metadata": {},
   "outputs": [],
   "source": [
    "#cv2.imwrite('myimage.jpg' , frame)"
   ]
  },
  {
   "cell_type": "code",
   "execution_count": 40,
   "metadata": {},
   "outputs": [],
   "source": [
    "### Read until video is captured\n",
    "cap = cv2.VideoCapture(0)\n",
    "while(cap.isOpened()):\n",
    "# capture frame by frame\n",
    "        ret , frame = cap.read()\n",
    "        if ret == True:\n",
    "                cv2.imshow('frame', frame)  # display resulting frame\n",
    "                if cv2.waitKey(1) & 0xFF == ord(\"q\"):  # press q on keyboard to exit\n",
    "                        break \n",
    "        else:\n",
    "                break\n",
    "cap.release()"
   ]
  },
  {
   "cell_type": "code",
   "execution_count": null,
   "metadata": {},
   "outputs": [],
   "source": []
  }
 ],
 "metadata": {
  "kernelspec": {
   "display_name": "Python 3",
   "language": "python",
   "name": "python3"
  },
  "language_info": {
   "codemirror_mode": {
    "name": "ipython",
    "version": 3
   },
   "file_extension": ".py",
   "mimetype": "text/x-python",
   "name": "python",
   "nbconvert_exporter": "python",
   "pygments_lexer": "ipython3",
   "version": "3.11.9"
  }
 },
 "nbformat": 4,
 "nbformat_minor": 2
}
