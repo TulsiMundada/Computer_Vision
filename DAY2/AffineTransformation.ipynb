{
 "cells": [
  {
   "cell_type": "code",
   "execution_count": 3,
   "metadata": {},
   "outputs": [],
   "source": [
    "### All transformations on same image"
   ]
  },
  {
   "cell_type": "code",
   "execution_count": 1,
   "metadata": {},
   "outputs": [],
   "source": [
    "import cv2 \n",
    "import matplotlib.pyplot as plt \n",
    "import numpy as np"
   ]
  },
  {
   "cell_type": "code",
   "execution_count": 2,
   "metadata": {},
   "outputs": [],
   "source": [
    "img = cv2.imread(\"../images/lenna.png\" )"
   ]
  },
  {
   "cell_type": "code",
   "execution_count": 7,
   "metadata": {},
   "outputs": [],
   "source": [
    "tx = 50\n",
    "ty = 100\n",
    "angle = 45\n",
    "scale = 1.2\n",
    "shear_x = 0.3\n",
    "shear_y = 0.2\n",
    "\n",
    "##Create transformation matrix\n",
    "M = np.float32([[scale * np.cos(np.radians(angle)), shear_x, tx], [shear_y, scale * np.sin(np.radians(angle)), ty]])\n",
    "\n",
    "# Apply transformation using wrapAffine\n",
    "img_affine = cv2.warpAffine(img, M, (512, 512))\n",
    "\n",
    "# Display original and affine transformed images\n",
    "cv2.imshow('Affine Transformed Image', img_affine)\n",
    "cv2.waitKey(0)\n",
    "cv2.destroyAllWindows()"
   ]
  },
  {
   "cell_type": "code",
   "execution_count": 44,
   "metadata": {},
   "outputs": [],
   "source": [
    "tx = 50\n",
    "ty = 200\n",
    "angle = -25\n",
    "scale = 200/512\n",
    "shear_x = 0\n",
    "shear_y = 0\n",
    "\n",
    "##Create transformation matrix\n",
    "M = np.float32([[scale * np.cos(np.radians(angle)),  -np.sin(np.radians(angle)), tx], [np.sin(np.radians(angle)), scale * np.cos(np.radians(angle)), ty]])\n",
    "\n",
    "# Apply transformation using wrapAffine\n",
    "img_affine = cv2.warpAffine(img, M, (512, 512))\n",
    "\n",
    "# Display original and affine transformed images\n",
    "cv2.imshow('Affine Transformed Image', img_affine)\n",
    "cv2.waitKey(0)\n",
    "cv2.destroyAllWindows()"
   ]
  }
 ],
 "metadata": {
  "kernelspec": {
   "display_name": "Python 3",
   "language": "python",
   "name": "python3"
  },
  "language_info": {
   "codemirror_mode": {
    "name": "ipython",
    "version": 3
   },
   "file_extension": ".py",
   "mimetype": "text/x-python",
   "name": "python",
   "nbconvert_exporter": "python",
   "pygments_lexer": "ipython3",
   "version": "3.11.9"
  }
 },
 "nbformat": 4,
 "nbformat_minor": 2
}
